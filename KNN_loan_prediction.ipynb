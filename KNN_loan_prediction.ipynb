{
  "nbformat": 4,
  "nbformat_minor": 0,
  "metadata": {
    "colab": {
      "provenance": []
    },
    "kernelspec": {
      "name": "python3",
      "display_name": "Python 3"
    },
    "language_info": {
      "name": "python"
    }
  },
  "cells": [
    {
      "cell_type": "markdown",
      "source": [
        "##INTRODUCTION:"
      ],
      "metadata": {
        "id": "jfW0bqWHZ1oE"
      }
    },
    {
      "cell_type": "markdown",
      "source": [
        "Dans toute démarche de modélisation en machine learning, la première étape consiste à bien définir la problématique et à identifier la variable cible. Cette étape est cruciale pour choisir la méthode de modélisation la plus adaptée.\n",
        "\n",
        "La problématique peut varier selon le contexte d'application. Par exemple:\n",
        "\n",
        "*   Si le contexte est médical: comment prédire si un patient est atteint d'une maladie en fonction de ses caractéristiques cliniques ?\n",
        "*   Si le contexte est commercial: comment classer les clients en fonction de leur probabilité d'acheter un produit ?\n",
        "\n",
        "Dans tous ces cas, l’objectif est de résoudre un problème de classification ou de régression à l’aide de modèles prédictifs.\n",
        "\n",
        "La variable cible est la variable que l’on souhaite prédire. Elle peut être :\n",
        "\n",
        "Discrète (classification) : Par exemple, un diagnostic médical (malade ou non malade).\n",
        "Continue (régression) : Par exemple, le prix d’une maison."
      ],
      "metadata": {
        "id": "3fHePaBI2ZWG"
      }
    },
    {
      "cell_type": "markdown",
      "source": [
        "##Problématique:"
      ],
      "metadata": {
        "id": "utBhL7wqKE5D"
      }
    },
    {
      "cell_type": "markdown",
      "source": [
        "\n",
        "La société souhaite automatiser le processus d’éligibilité au prêt en temps réel. L’objectif est de prédire si un prêt sera approuvé ou non en fonction des informations fournies sur le demandeur.\n",
        "\n",
        "La variable cible (Loan_Status) a deux valeurs possibles:\n",
        "*     Yes: Le prêt est approuvé.\n",
        "*     No: Le prêt est refusé.\n",
        "\n",
        "L'objectif est de prédire si un prêt sera approuvé ou non (catégories Yes/No), en fonction des caractéristiques fournies dans les colonnes d'entrée"
      ],
      "metadata": {
        "id": "lZWr1uU7DIUT"
      }
    },
    {
      "cell_type": "markdown",
      "source": [
        "##Qu’est ce que l’algorithme de KNN ?"
      ],
      "metadata": {
        "id": "X7N87BErKV7c"
      }
    },
    {
      "cell_type": "markdown",
      "source": [
        "\n",
        "KNN est un algorithme de machine learning utilisé pour la classification et la régression. Il est non seulement adapté sur la classification mais aussi sur la régression. C’est un modèle d’apprentissage supervisé dont l’objectif c’est de faire des prédictions à partir des classes qui sont déjà définies .\n",
        "\n",
        "\n"
      ],
      "metadata": {
        "id": "mOP6tFdJD8tZ"
      }
    },
    {
      "cell_type": "markdown",
      "source": [
        "##Notion de distance:"
      ],
      "metadata": {
        "id": "B3IaJ9v6Kwfn"
      }
    },
    {
      "cell_type": "markdown",
      "source": [
        "Contrairement aux autres algorithmes, le KNN se base sur les distances.\n",
        "\n",
        "L’objectif est de déterminer les ‘K’ points de données les plus proches d’un individus en terme de caractéristiques pour faire des prédictions (c’est à dire déterminer dans la base de données qu’on veut construire les K individus le plus proche possible en terme de distance de l’individu qu’on souhaite prédire).\n",
        "\n",
        "\n",
        "\n",
        "\n",
        "\n",
        "Pour clarifier cette notion\n",
        "\n",
        "Prenons un exemple:\n",
        "Imaginons nous qu’on veut mettre en place un modèle KNN qui permet de prédire si un animal est un chat ou un chien .\n",
        "\n",
        "(exemple expliqué au tableau )\n",
        "\n"
      ],
      "metadata": {
        "id": "u06fTZCLFvBe"
      }
    },
    {
      "cell_type": "markdown",
      "source": [
        "##Aspect mathématique:\n"
      ],
      "metadata": {
        "id": "l46zKpiLLIAW"
      }
    },
    {
      "cell_type": "markdown",
      "source": [
        "En KNN, les distances entre les points sont essentielles pour déterminer les voisins les plus proches. Voici les distances les plus couramment utilisées en KNN, chacune ayant des propriétés spécifiques :\n",
        "\n",
        "---\n",
        "\n",
        "### **1. Distance Euclidienne**\n",
        "- **Formule** :\n",
        "  $\n",
        "  d(\\mathbf{x}, \\mathbf{y}) = \\sqrt{\\sum_{i=1}^{n} (x_i - y_i)^2}\n",
        "  $\n",
        "- **Description** :\n",
        "  - Distance géométrique entre deux points dans un espace euclidien.\n",
        "  - Convient bien lorsque les caractéristiques ont une échelle similaire.\n",
        "- **Propriétés** :\n",
        "  - Sensible aux grandes valeurs (effet de dominance).\n",
        "  - Nécessite une normalisation des données pour de meilleures performances.\n",
        "\n",
        "---\n",
        "\n",
        "### **2. Distance de Manhattan**\n",
        "- **Formule** :\n",
        "  $\n",
        "  d(\\mathbf{x}, \\mathbf{y}) = \\sum_{i=1}^{n} |x_i - y_i|\n",
        "  $\n",
        "- **Description** :\n",
        "  - Distance basée sur les déplacements horizontaux et verticaux dans une grille (comme des rues d'une ville).\n",
        "  - Moins sensible aux grandes valeurs que la distance euclidienne.\n",
        "- **Utilisation** :\n",
        "  - Utile si les caractéristiques sont déjà normalisées ou si les relations entre elles ne sont pas strictement quadratiques.\n",
        "\n",
        "---\n",
        "\n",
        "### **3. Distance de Minkowski**\n",
        "- **Formule** :\n",
        "  $\n",
        "  d(\\mathbf{x}, \\mathbf{y}) = \\left( \\sum_{i=1}^{n} |x_i - y_i|^p \\right)^{\\frac{1}{p}}\n",
        "  $\n",
        "- **Description** :\n",
        "  - Distance généralisée qui inclut la distance euclidienne (\\(p = 2\\)) et la distance de Manhattan (\\(p = 1\\)) comme cas particuliers.\n",
        "  - Pour \\(p \\to \\infty\\), elle devient la distance de Chebyshev.\n",
        "- **Propriétés** :\n",
        "  - Permet de contrôler la sensibilité aux valeurs extrêmes via \\(p\\)."
      ],
      "metadata": {
        "id": "-YvqKuwOLVZm"
      }
    },
    {
      "cell_type": "markdown",
      "source": [
        "##Fonctionnement de l'algorithme\n"
      ],
      "metadata": {
        "id": "MvN16FTEMVnX"
      }
    },
    {
      "cell_type": "markdown",
      "source": [
        "**Initialisation :**\n",
        "   - Déterminez le nombre $K$ de voisins à considérer pour les prédictions. K$ peut être une valeur comme 2, 3, 4, etc.\n",
        "   - Une fois $K$ défini, passez à l'étape suivante.\n",
        "\n",
        "**Calcul des distances :**\n",
        "   - Pour chaque nouvelle observation non étiquetée, calculez la distance entre cette observation et toutes les autres dans l'ensemble de données d'entraînement.\n",
        "   - Les distances peuvent être mesurées en utilisant des métriques comme la **distance euclidienne**, la **distance de Manhattan**, ou la **distance de Minkowski**, selon le cas.\n",
        "\n",
        "**Sélection des $K$ voisins les plus proches :**\n",
        "   - Une fois les distances calculées, identifiez les $K$ observations dans l'ensemble de données d'entraînement qui sont les plus proches de la nouvelle observation.\n",
        "\n",
        "**Prise de décision :**\n",
        "   - **Pour une tâche de classification** :\n",
        "     - Attribuez à la nouvelle observation la classe la plus fréquente parmi les $K$ voisins les plus proches.\n",
        "   - **Pour une tâche de régression** :\n",
        "     - Attribuez à la nouvelle observation la moyenne (ou la médiane) des valeurs des $K$ voisins les plus proches.\n",
        "\n",
        "**Répétition :**\n",
        "   - Répétez les étapes **2 à 4** pour chaque nouvelle observation à prédire.\n"
      ],
      "metadata": {
        "id": "z_cooCirGI7E"
      }
    },
    {
      "cell_type": "markdown",
      "source": [
        "##Choix de $K$?\n"
      ],
      "metadata": {
        "id": "Q2f8v4D7M7at"
      }
    },
    {
      "cell_type": "markdown",
      "source": [
        "$K$ détermine le **nombre de voisins à considérer** pour une prédiction et influence directement la performance du modèle KNN.\n",
        "\n",
        "- **$K$ trop grand** :\n",
        "  - Un $K$ très élevé risque de mal généraliser. En effet, lorsque $K$ devient trop grand, les individus des différentes classes commencent à se ressembler, ce qui diminue la capacité du modèle à différencier correctement les classes.\n",
        "- **$K$ trop petit** :\n",
        "  - Un $K$ trop faible est sensible au bruit, ce qui peut entraîner un modèle instable et peu fiable.\n",
        "\n",
        "Relation avec le biais et la variance :\n",
        "- **Petit $K$** :\n",
        "  - Modèle avec **faible biais** mais **haute variance**.\n",
        "  - Le modèle s’ajuste fortement aux données d’entraînement, ce qui peut le rendre sensible aux anomalies (overfitting).\n",
        "- **Grand $K$** :\n",
        "  - Modèle avec **faible variance** mais **haut biais**.\n",
        "  - Le modèle est trop simplifié et risque de mal capturer les relations complexes dans les données (underfitting).\n",
        "\n",
        "Comment choisir $K$ :\n",
        "Pour éviter le **biais** et la **variance**, il est important de trouver un bon équilibre dans le choix de $K$.\n",
        "En pratique, on utilise généralement la **validation croisée** pour tester plusieurs valeurs de $K$ et sélectionner celle qui optimise les performances du modèle."
      ],
      "metadata": {
        "id": "mXbc7H8YGNZ9"
      }
    },
    {
      "cell_type": "markdown",
      "source": [
        "Avantages de l’algorithme KNN\n",
        "\n",
        "1. Facilité de compréhension: KNN est un algorithme intuitif et facile à comprendre\n",
        "2. Capable de gérer les problème de classification et de régression: KNN peut être utilisé aussi bien pour la classification que pour la régression\n",
        "3. Gestion efface des données non linéaires: KNN peut gérer les données non linéaires car il se base sur la proximité des échantillons .\n",
        "\n",
        "\n",
        "Inconvénients\n",
        "\n",
        "1. Coûteux en temps et en mémoire: KNN nécessite le stockage de toutes les données d’entraînement et le calcul des distances pour chaque prédiction ,ce qui peut être coûteux en temps et en mémoire pour les grands ensembles de données\n",
        "2. Sensible à la dimensionnalité: la performance de KNN peut diminuer avec l’augmentation de la dimensionnalité des données (malédiction de la dimensionnalité)\n",
        "3. Sensible aux variables non pertinentes: KNN peut donner beaucoup de poids aux variables qui n’ont pas d’importance pour la prédiction ."
      ],
      "metadata": {
        "id": "ZBc7FHwScnuM"
      }
    },
    {
      "cell_type": "markdown",
      "source": [
        "##Importation les Packages et chargement des données"
      ],
      "metadata": {
        "id": "bi0kU4AG7hmD"
      }
    },
    {
      "cell_type": "code",
      "source": [
        "import pandas as pd\n",
        "import numpy as np\n",
        "import matplotlib.pyplot as plt\n",
        "import seaborn as sns\n",
        "import math\n",
        "from sklearn.model_selection import train_test_split, GridSearchCV\n",
        "from sklearn.preprocessing import StandardScaler, LabelEncoder\n",
        "from scipy.stats import chi2_contingency\n",
        "from sklearn.neighbors import KNeighborsClassifier\n",
        "from sklearn.linear_model import LogisticRegression\n",
        "from sklearn.metrics import accuracy_score, confusion_matrix, classification_report"
      ],
      "metadata": {
        "id": "hhBqqE_964NK"
      },
      "execution_count": 50,
      "outputs": []
    },
    {
      "cell_type": "code",
      "source": [
        "loan_train = pd.read_csv('loan-train.csv')\n",
        "\n",
        "loan_train"
      ],
      "metadata": {
        "colab": {
          "base_uri": "https://localhost:8080/",
          "height": 424
        },
        "id": "xrqLZTem0Kyb",
        "outputId": "9b3b675d-106f-43c0-ff79-d281ddcf451a"
      },
      "execution_count": 67,
      "outputs": [
        {
          "output_type": "execute_result",
          "data": {
            "text/plain": [
              "      Loan_ID  Gender Married Dependents     Education Self_Employed  \\\n",
              "0    LP001002    Male      No          0      Graduate            No   \n",
              "1    LP001003    Male     Yes          1      Graduate            No   \n",
              "2    LP001005    Male     Yes          0      Graduate           Yes   \n",
              "3    LP001006    Male     Yes          0  Not Graduate            No   \n",
              "4    LP001008    Male      No          0      Graduate            No   \n",
              "..        ...     ...     ...        ...           ...           ...   \n",
              "609  LP002978  Female      No          0      Graduate            No   \n",
              "610  LP002979    Male     Yes         3+      Graduate            No   \n",
              "611  LP002983    Male     Yes          1      Graduate            No   \n",
              "612  LP002984    Male     Yes          2      Graduate            No   \n",
              "613  LP002990  Female      No          0      Graduate           Yes   \n",
              "\n",
              "     ApplicantIncome  CoapplicantIncome  LoanAmount  Loan_Amount_Term  \\\n",
              "0               5849                0.0         NaN             360.0   \n",
              "1               4583             1508.0       128.0             360.0   \n",
              "2               3000                0.0        66.0             360.0   \n",
              "3               2583             2358.0       120.0             360.0   \n",
              "4               6000                0.0       141.0             360.0   \n",
              "..               ...                ...         ...               ...   \n",
              "609             2900                0.0        71.0             360.0   \n",
              "610             4106                0.0        40.0             180.0   \n",
              "611             8072              240.0       253.0             360.0   \n",
              "612             7583                0.0       187.0             360.0   \n",
              "613             4583                0.0       133.0             360.0   \n",
              "\n",
              "     Credit_History Property_Area Loan_Status  \n",
              "0               1.0         Urban           Y  \n",
              "1               1.0         Rural           N  \n",
              "2               1.0         Urban           Y  \n",
              "3               1.0         Urban           Y  \n",
              "4               1.0         Urban           Y  \n",
              "..              ...           ...         ...  \n",
              "609             1.0         Rural           Y  \n",
              "610             1.0         Rural           Y  \n",
              "611             1.0         Urban           Y  \n",
              "612             1.0         Urban           Y  \n",
              "613             0.0     Semiurban           N  \n",
              "\n",
              "[614 rows x 13 columns]"
            ],
            "text/html": [
              "\n",
              "  <div id=\"df-2c1a4bdb-9495-4d16-8459-7c7c00cbbf5e\" class=\"colab-df-container\">\n",
              "    <div>\n",
              "<style scoped>\n",
              "    .dataframe tbody tr th:only-of-type {\n",
              "        vertical-align: middle;\n",
              "    }\n",
              "\n",
              "    .dataframe tbody tr th {\n",
              "        vertical-align: top;\n",
              "    }\n",
              "\n",
              "    .dataframe thead th {\n",
              "        text-align: right;\n",
              "    }\n",
              "</style>\n",
              "<table border=\"1\" class=\"dataframe\">\n",
              "  <thead>\n",
              "    <tr style=\"text-align: right;\">\n",
              "      <th></th>\n",
              "      <th>Loan_ID</th>\n",
              "      <th>Gender</th>\n",
              "      <th>Married</th>\n",
              "      <th>Dependents</th>\n",
              "      <th>Education</th>\n",
              "      <th>Self_Employed</th>\n",
              "      <th>ApplicantIncome</th>\n",
              "      <th>CoapplicantIncome</th>\n",
              "      <th>LoanAmount</th>\n",
              "      <th>Loan_Amount_Term</th>\n",
              "      <th>Credit_History</th>\n",
              "      <th>Property_Area</th>\n",
              "      <th>Loan_Status</th>\n",
              "    </tr>\n",
              "  </thead>\n",
              "  <tbody>\n",
              "    <tr>\n",
              "      <th>0</th>\n",
              "      <td>LP001002</td>\n",
              "      <td>Male</td>\n",
              "      <td>No</td>\n",
              "      <td>0</td>\n",
              "      <td>Graduate</td>\n",
              "      <td>No</td>\n",
              "      <td>5849</td>\n",
              "      <td>0.0</td>\n",
              "      <td>NaN</td>\n",
              "      <td>360.0</td>\n",
              "      <td>1.0</td>\n",
              "      <td>Urban</td>\n",
              "      <td>Y</td>\n",
              "    </tr>\n",
              "    <tr>\n",
              "      <th>1</th>\n",
              "      <td>LP001003</td>\n",
              "      <td>Male</td>\n",
              "      <td>Yes</td>\n",
              "      <td>1</td>\n",
              "      <td>Graduate</td>\n",
              "      <td>No</td>\n",
              "      <td>4583</td>\n",
              "      <td>1508.0</td>\n",
              "      <td>128.0</td>\n",
              "      <td>360.0</td>\n",
              "      <td>1.0</td>\n",
              "      <td>Rural</td>\n",
              "      <td>N</td>\n",
              "    </tr>\n",
              "    <tr>\n",
              "      <th>2</th>\n",
              "      <td>LP001005</td>\n",
              "      <td>Male</td>\n",
              "      <td>Yes</td>\n",
              "      <td>0</td>\n",
              "      <td>Graduate</td>\n",
              "      <td>Yes</td>\n",
              "      <td>3000</td>\n",
              "      <td>0.0</td>\n",
              "      <td>66.0</td>\n",
              "      <td>360.0</td>\n",
              "      <td>1.0</td>\n",
              "      <td>Urban</td>\n",
              "      <td>Y</td>\n",
              "    </tr>\n",
              "    <tr>\n",
              "      <th>3</th>\n",
              "      <td>LP001006</td>\n",
              "      <td>Male</td>\n",
              "      <td>Yes</td>\n",
              "      <td>0</td>\n",
              "      <td>Not Graduate</td>\n",
              "      <td>No</td>\n",
              "      <td>2583</td>\n",
              "      <td>2358.0</td>\n",
              "      <td>120.0</td>\n",
              "      <td>360.0</td>\n",
              "      <td>1.0</td>\n",
              "      <td>Urban</td>\n",
              "      <td>Y</td>\n",
              "    </tr>\n",
              "    <tr>\n",
              "      <th>4</th>\n",
              "      <td>LP001008</td>\n",
              "      <td>Male</td>\n",
              "      <td>No</td>\n",
              "      <td>0</td>\n",
              "      <td>Graduate</td>\n",
              "      <td>No</td>\n",
              "      <td>6000</td>\n",
              "      <td>0.0</td>\n",
              "      <td>141.0</td>\n",
              "      <td>360.0</td>\n",
              "      <td>1.0</td>\n",
              "      <td>Urban</td>\n",
              "      <td>Y</td>\n",
              "    </tr>\n",
              "    <tr>\n",
              "      <th>...</th>\n",
              "      <td>...</td>\n",
              "      <td>...</td>\n",
              "      <td>...</td>\n",
              "      <td>...</td>\n",
              "      <td>...</td>\n",
              "      <td>...</td>\n",
              "      <td>...</td>\n",
              "      <td>...</td>\n",
              "      <td>...</td>\n",
              "      <td>...</td>\n",
              "      <td>...</td>\n",
              "      <td>...</td>\n",
              "      <td>...</td>\n",
              "    </tr>\n",
              "    <tr>\n",
              "      <th>609</th>\n",
              "      <td>LP002978</td>\n",
              "      <td>Female</td>\n",
              "      <td>No</td>\n",
              "      <td>0</td>\n",
              "      <td>Graduate</td>\n",
              "      <td>No</td>\n",
              "      <td>2900</td>\n",
              "      <td>0.0</td>\n",
              "      <td>71.0</td>\n",
              "      <td>360.0</td>\n",
              "      <td>1.0</td>\n",
              "      <td>Rural</td>\n",
              "      <td>Y</td>\n",
              "    </tr>\n",
              "    <tr>\n",
              "      <th>610</th>\n",
              "      <td>LP002979</td>\n",
              "      <td>Male</td>\n",
              "      <td>Yes</td>\n",
              "      <td>3+</td>\n",
              "      <td>Graduate</td>\n",
              "      <td>No</td>\n",
              "      <td>4106</td>\n",
              "      <td>0.0</td>\n",
              "      <td>40.0</td>\n",
              "      <td>180.0</td>\n",
              "      <td>1.0</td>\n",
              "      <td>Rural</td>\n",
              "      <td>Y</td>\n",
              "    </tr>\n",
              "    <tr>\n",
              "      <th>611</th>\n",
              "      <td>LP002983</td>\n",
              "      <td>Male</td>\n",
              "      <td>Yes</td>\n",
              "      <td>1</td>\n",
              "      <td>Graduate</td>\n",
              "      <td>No</td>\n",
              "      <td>8072</td>\n",
              "      <td>240.0</td>\n",
              "      <td>253.0</td>\n",
              "      <td>360.0</td>\n",
              "      <td>1.0</td>\n",
              "      <td>Urban</td>\n",
              "      <td>Y</td>\n",
              "    </tr>\n",
              "    <tr>\n",
              "      <th>612</th>\n",
              "      <td>LP002984</td>\n",
              "      <td>Male</td>\n",
              "      <td>Yes</td>\n",
              "      <td>2</td>\n",
              "      <td>Graduate</td>\n",
              "      <td>No</td>\n",
              "      <td>7583</td>\n",
              "      <td>0.0</td>\n",
              "      <td>187.0</td>\n",
              "      <td>360.0</td>\n",
              "      <td>1.0</td>\n",
              "      <td>Urban</td>\n",
              "      <td>Y</td>\n",
              "    </tr>\n",
              "    <tr>\n",
              "      <th>613</th>\n",
              "      <td>LP002990</td>\n",
              "      <td>Female</td>\n",
              "      <td>No</td>\n",
              "      <td>0</td>\n",
              "      <td>Graduate</td>\n",
              "      <td>Yes</td>\n",
              "      <td>4583</td>\n",
              "      <td>0.0</td>\n",
              "      <td>133.0</td>\n",
              "      <td>360.0</td>\n",
              "      <td>0.0</td>\n",
              "      <td>Semiurban</td>\n",
              "      <td>N</td>\n",
              "    </tr>\n",
              "  </tbody>\n",
              "</table>\n",
              "<p>614 rows × 13 columns</p>\n",
              "</div>\n",
              "    <div class=\"colab-df-buttons\">\n",
              "\n",
              "  <div class=\"colab-df-container\">\n",
              "    <button class=\"colab-df-convert\" onclick=\"convertToInteractive('df-2c1a4bdb-9495-4d16-8459-7c7c00cbbf5e')\"\n",
              "            title=\"Convert this dataframe to an interactive table.\"\n",
              "            style=\"display:none;\">\n",
              "\n",
              "  <svg xmlns=\"http://www.w3.org/2000/svg\" height=\"24px\" viewBox=\"0 -960 960 960\">\n",
              "    <path d=\"M120-120v-720h720v720H120Zm60-500h600v-160H180v160Zm220 220h160v-160H400v160Zm0 220h160v-160H400v160ZM180-400h160v-160H180v160Zm440 0h160v-160H620v160ZM180-180h160v-160H180v160Zm440 0h160v-160H620v160Z\"/>\n",
              "  </svg>\n",
              "    </button>\n",
              "\n",
              "  <style>\n",
              "    .colab-df-container {\n",
              "      display:flex;\n",
              "      gap: 12px;\n",
              "    }\n",
              "\n",
              "    .colab-df-convert {\n",
              "      background-color: #E8F0FE;\n",
              "      border: none;\n",
              "      border-radius: 50%;\n",
              "      cursor: pointer;\n",
              "      display: none;\n",
              "      fill: #1967D2;\n",
              "      height: 32px;\n",
              "      padding: 0 0 0 0;\n",
              "      width: 32px;\n",
              "    }\n",
              "\n",
              "    .colab-df-convert:hover {\n",
              "      background-color: #E2EBFA;\n",
              "      box-shadow: 0px 1px 2px rgba(60, 64, 67, 0.3), 0px 1px 3px 1px rgba(60, 64, 67, 0.15);\n",
              "      fill: #174EA6;\n",
              "    }\n",
              "\n",
              "    .colab-df-buttons div {\n",
              "      margin-bottom: 4px;\n",
              "    }\n",
              "\n",
              "    [theme=dark] .colab-df-convert {\n",
              "      background-color: #3B4455;\n",
              "      fill: #D2E3FC;\n",
              "    }\n",
              "\n",
              "    [theme=dark] .colab-df-convert:hover {\n",
              "      background-color: #434B5C;\n",
              "      box-shadow: 0px 1px 3px 1px rgba(0, 0, 0, 0.15);\n",
              "      filter: drop-shadow(0px 1px 2px rgba(0, 0, 0, 0.3));\n",
              "      fill: #FFFFFF;\n",
              "    }\n",
              "  </style>\n",
              "\n",
              "    <script>\n",
              "      const buttonEl =\n",
              "        document.querySelector('#df-2c1a4bdb-9495-4d16-8459-7c7c00cbbf5e button.colab-df-convert');\n",
              "      buttonEl.style.display =\n",
              "        google.colab.kernel.accessAllowed ? 'block' : 'none';\n",
              "\n",
              "      async function convertToInteractive(key) {\n",
              "        const element = document.querySelector('#df-2c1a4bdb-9495-4d16-8459-7c7c00cbbf5e');\n",
              "        const dataTable =\n",
              "          await google.colab.kernel.invokeFunction('convertToInteractive',\n",
              "                                                    [key], {});\n",
              "        if (!dataTable) return;\n",
              "\n",
              "        const docLinkHtml = 'Like what you see? Visit the ' +\n",
              "          '<a target=\"_blank\" href=https://colab.research.google.com/notebooks/data_table.ipynb>data table notebook</a>'\n",
              "          + ' to learn more about interactive tables.';\n",
              "        element.innerHTML = '';\n",
              "        dataTable['output_type'] = 'display_data';\n",
              "        await google.colab.output.renderOutput(dataTable, element);\n",
              "        const docLink = document.createElement('div');\n",
              "        docLink.innerHTML = docLinkHtml;\n",
              "        element.appendChild(docLink);\n",
              "      }\n",
              "    </script>\n",
              "  </div>\n",
              "\n",
              "\n",
              "<div id=\"df-417566df-75c3-4dd6-ae9b-aff12eb61f2a\">\n",
              "  <button class=\"colab-df-quickchart\" onclick=\"quickchart('df-417566df-75c3-4dd6-ae9b-aff12eb61f2a')\"\n",
              "            title=\"Suggest charts\"\n",
              "            style=\"display:none;\">\n",
              "\n",
              "<svg xmlns=\"http://www.w3.org/2000/svg\" height=\"24px\"viewBox=\"0 0 24 24\"\n",
              "     width=\"24px\">\n",
              "    <g>\n",
              "        <path d=\"M19 3H5c-1.1 0-2 .9-2 2v14c0 1.1.9 2 2 2h14c1.1 0 2-.9 2-2V5c0-1.1-.9-2-2-2zM9 17H7v-7h2v7zm4 0h-2V7h2v10zm4 0h-2v-4h2v4z\"/>\n",
              "    </g>\n",
              "</svg>\n",
              "  </button>\n",
              "\n",
              "<style>\n",
              "  .colab-df-quickchart {\n",
              "      --bg-color: #E8F0FE;\n",
              "      --fill-color: #1967D2;\n",
              "      --hover-bg-color: #E2EBFA;\n",
              "      --hover-fill-color: #174EA6;\n",
              "      --disabled-fill-color: #AAA;\n",
              "      --disabled-bg-color: #DDD;\n",
              "  }\n",
              "\n",
              "  [theme=dark] .colab-df-quickchart {\n",
              "      --bg-color: #3B4455;\n",
              "      --fill-color: #D2E3FC;\n",
              "      --hover-bg-color: #434B5C;\n",
              "      --hover-fill-color: #FFFFFF;\n",
              "      --disabled-bg-color: #3B4455;\n",
              "      --disabled-fill-color: #666;\n",
              "  }\n",
              "\n",
              "  .colab-df-quickchart {\n",
              "    background-color: var(--bg-color);\n",
              "    border: none;\n",
              "    border-radius: 50%;\n",
              "    cursor: pointer;\n",
              "    display: none;\n",
              "    fill: var(--fill-color);\n",
              "    height: 32px;\n",
              "    padding: 0;\n",
              "    width: 32px;\n",
              "  }\n",
              "\n",
              "  .colab-df-quickchart:hover {\n",
              "    background-color: var(--hover-bg-color);\n",
              "    box-shadow: 0 1px 2px rgba(60, 64, 67, 0.3), 0 1px 3px 1px rgba(60, 64, 67, 0.15);\n",
              "    fill: var(--button-hover-fill-color);\n",
              "  }\n",
              "\n",
              "  .colab-df-quickchart-complete:disabled,\n",
              "  .colab-df-quickchart-complete:disabled:hover {\n",
              "    background-color: var(--disabled-bg-color);\n",
              "    fill: var(--disabled-fill-color);\n",
              "    box-shadow: none;\n",
              "  }\n",
              "\n",
              "  .colab-df-spinner {\n",
              "    border: 2px solid var(--fill-color);\n",
              "    border-color: transparent;\n",
              "    border-bottom-color: var(--fill-color);\n",
              "    animation:\n",
              "      spin 1s steps(1) infinite;\n",
              "  }\n",
              "\n",
              "  @keyframes spin {\n",
              "    0% {\n",
              "      border-color: transparent;\n",
              "      border-bottom-color: var(--fill-color);\n",
              "      border-left-color: var(--fill-color);\n",
              "    }\n",
              "    20% {\n",
              "      border-color: transparent;\n",
              "      border-left-color: var(--fill-color);\n",
              "      border-top-color: var(--fill-color);\n",
              "    }\n",
              "    30% {\n",
              "      border-color: transparent;\n",
              "      border-left-color: var(--fill-color);\n",
              "      border-top-color: var(--fill-color);\n",
              "      border-right-color: var(--fill-color);\n",
              "    }\n",
              "    40% {\n",
              "      border-color: transparent;\n",
              "      border-right-color: var(--fill-color);\n",
              "      border-top-color: var(--fill-color);\n",
              "    }\n",
              "    60% {\n",
              "      border-color: transparent;\n",
              "      border-right-color: var(--fill-color);\n",
              "    }\n",
              "    80% {\n",
              "      border-color: transparent;\n",
              "      border-right-color: var(--fill-color);\n",
              "      border-bottom-color: var(--fill-color);\n",
              "    }\n",
              "    90% {\n",
              "      border-color: transparent;\n",
              "      border-bottom-color: var(--fill-color);\n",
              "    }\n",
              "  }\n",
              "</style>\n",
              "\n",
              "  <script>\n",
              "    async function quickchart(key) {\n",
              "      const quickchartButtonEl =\n",
              "        document.querySelector('#' + key + ' button');\n",
              "      quickchartButtonEl.disabled = true;  // To prevent multiple clicks.\n",
              "      quickchartButtonEl.classList.add('colab-df-spinner');\n",
              "      try {\n",
              "        const charts = await google.colab.kernel.invokeFunction(\n",
              "            'suggestCharts', [key], {});\n",
              "      } catch (error) {\n",
              "        console.error('Error during call to suggestCharts:', error);\n",
              "      }\n",
              "      quickchartButtonEl.classList.remove('colab-df-spinner');\n",
              "      quickchartButtonEl.classList.add('colab-df-quickchart-complete');\n",
              "    }\n",
              "    (() => {\n",
              "      let quickchartButtonEl =\n",
              "        document.querySelector('#df-417566df-75c3-4dd6-ae9b-aff12eb61f2a button');\n",
              "      quickchartButtonEl.style.display =\n",
              "        google.colab.kernel.accessAllowed ? 'block' : 'none';\n",
              "    })();\n",
              "  </script>\n",
              "</div>\n",
              "\n",
              "  <div id=\"id_290a6a81-43ff-4d3a-958c-1446b019486e\">\n",
              "    <style>\n",
              "      .colab-df-generate {\n",
              "        background-color: #E8F0FE;\n",
              "        border: none;\n",
              "        border-radius: 50%;\n",
              "        cursor: pointer;\n",
              "        display: none;\n",
              "        fill: #1967D2;\n",
              "        height: 32px;\n",
              "        padding: 0 0 0 0;\n",
              "        width: 32px;\n",
              "      }\n",
              "\n",
              "      .colab-df-generate:hover {\n",
              "        background-color: #E2EBFA;\n",
              "        box-shadow: 0px 1px 2px rgba(60, 64, 67, 0.3), 0px 1px 3px 1px rgba(60, 64, 67, 0.15);\n",
              "        fill: #174EA6;\n",
              "      }\n",
              "\n",
              "      [theme=dark] .colab-df-generate {\n",
              "        background-color: #3B4455;\n",
              "        fill: #D2E3FC;\n",
              "      }\n",
              "\n",
              "      [theme=dark] .colab-df-generate:hover {\n",
              "        background-color: #434B5C;\n",
              "        box-shadow: 0px 1px 3px 1px rgba(0, 0, 0, 0.15);\n",
              "        filter: drop-shadow(0px 1px 2px rgba(0, 0, 0, 0.3));\n",
              "        fill: #FFFFFF;\n",
              "      }\n",
              "    </style>\n",
              "    <button class=\"colab-df-generate\" onclick=\"generateWithVariable('loan_train')\"\n",
              "            title=\"Generate code using this dataframe.\"\n",
              "            style=\"display:none;\">\n",
              "\n",
              "  <svg xmlns=\"http://www.w3.org/2000/svg\" height=\"24px\"viewBox=\"0 0 24 24\"\n",
              "       width=\"24px\">\n",
              "    <path d=\"M7,19H8.4L18.45,9,17,7.55,7,17.6ZM5,21V16.75L18.45,3.32a2,2,0,0,1,2.83,0l1.4,1.43a1.91,1.91,0,0,1,.58,1.4,1.91,1.91,0,0,1-.58,1.4L9.25,21ZM18.45,9,17,7.55Zm-12,3A5.31,5.31,0,0,0,4.9,8.1,5.31,5.31,0,0,0,1,6.5,5.31,5.31,0,0,0,4.9,4.9,5.31,5.31,0,0,0,6.5,1,5.31,5.31,0,0,0,8.1,4.9,5.31,5.31,0,0,0,12,6.5,5.46,5.46,0,0,0,6.5,12Z\"/>\n",
              "  </svg>\n",
              "    </button>\n",
              "    <script>\n",
              "      (() => {\n",
              "      const buttonEl =\n",
              "        document.querySelector('#id_290a6a81-43ff-4d3a-958c-1446b019486e button.colab-df-generate');\n",
              "      buttonEl.style.display =\n",
              "        google.colab.kernel.accessAllowed ? 'block' : 'none';\n",
              "\n",
              "      buttonEl.onclick = () => {\n",
              "        google.colab.notebook.generateWithVariable('loan_train');\n",
              "      }\n",
              "      })();\n",
              "    </script>\n",
              "  </div>\n",
              "\n",
              "    </div>\n",
              "  </div>\n"
            ],
            "application/vnd.google.colaboratory.intrinsic+json": {
              "type": "dataframe",
              "variable_name": "loan_train",
              "summary": "{\n  \"name\": \"loan_train\",\n  \"rows\": 614,\n  \"fields\": [\n    {\n      \"column\": \"Loan_ID\",\n      \"properties\": {\n        \"dtype\": \"string\",\n        \"num_unique_values\": 614,\n        \"samples\": [\n          \"LP002139\",\n          \"LP002223\",\n          \"LP001570\"\n        ],\n        \"semantic_type\": \"\",\n        \"description\": \"\"\n      }\n    },\n    {\n      \"column\": \"Gender\",\n      \"properties\": {\n        \"dtype\": \"category\",\n        \"num_unique_values\": 2,\n        \"samples\": [\n          \"Female\",\n          \"Male\"\n        ],\n        \"semantic_type\": \"\",\n        \"description\": \"\"\n      }\n    },\n    {\n      \"column\": \"Married\",\n      \"properties\": {\n        \"dtype\": \"category\",\n        \"num_unique_values\": 2,\n        \"samples\": [\n          \"Yes\",\n          \"No\"\n        ],\n        \"semantic_type\": \"\",\n        \"description\": \"\"\n      }\n    },\n    {\n      \"column\": \"Dependents\",\n      \"properties\": {\n        \"dtype\": \"category\",\n        \"num_unique_values\": 4,\n        \"samples\": [\n          \"1\",\n          \"3+\"\n        ],\n        \"semantic_type\": \"\",\n        \"description\": \"\"\n      }\n    },\n    {\n      \"column\": \"Education\",\n      \"properties\": {\n        \"dtype\": \"category\",\n        \"num_unique_values\": 2,\n        \"samples\": [\n          \"Not Graduate\",\n          \"Graduate\"\n        ],\n        \"semantic_type\": \"\",\n        \"description\": \"\"\n      }\n    },\n    {\n      \"column\": \"Self_Employed\",\n      \"properties\": {\n        \"dtype\": \"category\",\n        \"num_unique_values\": 2,\n        \"samples\": [\n          \"Yes\",\n          \"No\"\n        ],\n        \"semantic_type\": \"\",\n        \"description\": \"\"\n      }\n    },\n    {\n      \"column\": \"ApplicantIncome\",\n      \"properties\": {\n        \"dtype\": \"number\",\n        \"std\": 6109,\n        \"min\": 150,\n        \"max\": 81000,\n        \"num_unique_values\": 505,\n        \"samples\": [\n          8333,\n          4342\n        ],\n        \"semantic_type\": \"\",\n        \"description\": \"\"\n      }\n    },\n    {\n      \"column\": \"CoapplicantIncome\",\n      \"properties\": {\n        \"dtype\": \"number\",\n        \"std\": 2926.2483692241917,\n        \"min\": 0.0,\n        \"max\": 41667.0,\n        \"num_unique_values\": 287,\n        \"samples\": [\n          1840.0,\n          2042.0\n        ],\n        \"semantic_type\": \"\",\n        \"description\": \"\"\n      }\n    },\n    {\n      \"column\": \"LoanAmount\",\n      \"properties\": {\n        \"dtype\": \"number\",\n        \"std\": 85.58732523570545,\n        \"min\": 9.0,\n        \"max\": 700.0,\n        \"num_unique_values\": 203,\n        \"samples\": [\n          100.0,\n          70.0\n        ],\n        \"semantic_type\": \"\",\n        \"description\": \"\"\n      }\n    },\n    {\n      \"column\": \"Loan_Amount_Term\",\n      \"properties\": {\n        \"dtype\": \"number\",\n        \"std\": 65.12040985461256,\n        \"min\": 12.0,\n        \"max\": 480.0,\n        \"num_unique_values\": 10,\n        \"samples\": [\n          84.0,\n          120.0\n        ],\n        \"semantic_type\": \"\",\n        \"description\": \"\"\n      }\n    },\n    {\n      \"column\": \"Credit_History\",\n      \"properties\": {\n        \"dtype\": \"number\",\n        \"std\": 0.3648783192364049,\n        \"min\": 0.0,\n        \"max\": 1.0,\n        \"num_unique_values\": 2,\n        \"samples\": [\n          0.0,\n          1.0\n        ],\n        \"semantic_type\": \"\",\n        \"description\": \"\"\n      }\n    },\n    {\n      \"column\": \"Property_Area\",\n      \"properties\": {\n        \"dtype\": \"category\",\n        \"num_unique_values\": 3,\n        \"samples\": [\n          \"Urban\",\n          \"Rural\"\n        ],\n        \"semantic_type\": \"\",\n        \"description\": \"\"\n      }\n    },\n    {\n      \"column\": \"Loan_Status\",\n      \"properties\": {\n        \"dtype\": \"category\",\n        \"num_unique_values\": 2,\n        \"samples\": [\n          \"N\",\n          \"Y\"\n        ],\n        \"semantic_type\": \"\",\n        \"description\": \"\"\n      }\n    }\n  ]\n}"
            }
          },
          "metadata": {},
          "execution_count": 67
        }
      ]
    },
    {
      "cell_type": "code",
      "source": [
        "loan_train.dtypes"
      ],
      "metadata": {
        "colab": {
          "base_uri": "https://localhost:8080/",
          "height": 492
        },
        "id": "2OrHmBiGHIci",
        "outputId": "fc58b7c8-d4f9-4fd0-ca25-35fb48e87649"
      },
      "execution_count": 52,
      "outputs": [
        {
          "output_type": "execute_result",
          "data": {
            "text/plain": [
              "Loan_ID               object\n",
              "Gender                object\n",
              "Married               object\n",
              "Dependents            object\n",
              "Education             object\n",
              "Self_Employed         object\n",
              "ApplicantIncome        int64\n",
              "CoapplicantIncome    float64\n",
              "LoanAmount           float64\n",
              "Loan_Amount_Term     float64\n",
              "Credit_History       float64\n",
              "Property_Area         object\n",
              "Loan_Status           object\n",
              "dtype: object"
            ],
            "text/html": [
              "<div>\n",
              "<style scoped>\n",
              "    .dataframe tbody tr th:only-of-type {\n",
              "        vertical-align: middle;\n",
              "    }\n",
              "\n",
              "    .dataframe tbody tr th {\n",
              "        vertical-align: top;\n",
              "    }\n",
              "\n",
              "    .dataframe thead th {\n",
              "        text-align: right;\n",
              "    }\n",
              "</style>\n",
              "<table border=\"1\" class=\"dataframe\">\n",
              "  <thead>\n",
              "    <tr style=\"text-align: right;\">\n",
              "      <th></th>\n",
              "      <th>0</th>\n",
              "    </tr>\n",
              "  </thead>\n",
              "  <tbody>\n",
              "    <tr>\n",
              "      <th>Loan_ID</th>\n",
              "      <td>object</td>\n",
              "    </tr>\n",
              "    <tr>\n",
              "      <th>Gender</th>\n",
              "      <td>object</td>\n",
              "    </tr>\n",
              "    <tr>\n",
              "      <th>Married</th>\n",
              "      <td>object</td>\n",
              "    </tr>\n",
              "    <tr>\n",
              "      <th>Dependents</th>\n",
              "      <td>object</td>\n",
              "    </tr>\n",
              "    <tr>\n",
              "      <th>Education</th>\n",
              "      <td>object</td>\n",
              "    </tr>\n",
              "    <tr>\n",
              "      <th>Self_Employed</th>\n",
              "      <td>object</td>\n",
              "    </tr>\n",
              "    <tr>\n",
              "      <th>ApplicantIncome</th>\n",
              "      <td>int64</td>\n",
              "    </tr>\n",
              "    <tr>\n",
              "      <th>CoapplicantIncome</th>\n",
              "      <td>float64</td>\n",
              "    </tr>\n",
              "    <tr>\n",
              "      <th>LoanAmount</th>\n",
              "      <td>float64</td>\n",
              "    </tr>\n",
              "    <tr>\n",
              "      <th>Loan_Amount_Term</th>\n",
              "      <td>float64</td>\n",
              "    </tr>\n",
              "    <tr>\n",
              "      <th>Credit_History</th>\n",
              "      <td>float64</td>\n",
              "    </tr>\n",
              "    <tr>\n",
              "      <th>Property_Area</th>\n",
              "      <td>object</td>\n",
              "    </tr>\n",
              "    <tr>\n",
              "      <th>Loan_Status</th>\n",
              "      <td>object</td>\n",
              "    </tr>\n",
              "  </tbody>\n",
              "</table>\n",
              "</div><br><label><b>dtype:</b> object</label>"
            ]
          },
          "metadata": {},
          "execution_count": 52
        }
      ]
    },
    {
      "cell_type": "markdown",
      "source": [
        "##Nettoyage des données"
      ],
      "metadata": {
        "id": "1jnLPUH98tsY"
      }
    },
    {
      "cell_type": "markdown",
      "source": [
        "Vérification des valeurs manquantes :"
      ],
      "metadata": {
        "id": "k03GjaC3_YYv"
      }
    },
    {
      "cell_type": "code",
      "source": [
        "print(loan_train.isnull().sum())"
      ],
      "metadata": {
        "colab": {
          "base_uri": "https://localhost:8080/"
        },
        "id": "BHgFi_nL_cp9",
        "outputId": "aff4f636-6e0a-48c4-e5d7-4043c8d3366b"
      },
      "execution_count": 53,
      "outputs": [
        {
          "output_type": "stream",
          "name": "stdout",
          "text": [
            "Loan_ID               0\n",
            "Gender               13\n",
            "Married               3\n",
            "Dependents           15\n",
            "Education             0\n",
            "Self_Employed        32\n",
            "ApplicantIncome       0\n",
            "CoapplicantIncome     0\n",
            "LoanAmount           22\n",
            "Loan_Amount_Term     14\n",
            "Credit_History       50\n",
            "Property_Area         0\n",
            "Loan_Status           0\n",
            "dtype: int64\n"
          ]
        }
      ]
    },
    {
      "cell_type": "code",
      "source": [
        "loan_train.drop_duplicates(inplace=True)\n",
        "\n",
        "loan_train = loan_train.drop(['Loan_ID'], axis = 1)\n",
        "\n",
        "for col in loan_train.select_dtypes(include=np.number):\n",
        "    loan_train[col] = loan_train[col].fillna(loan_train[col].median())\n",
        "\n",
        "for col in loan_train.select_dtypes(include='object'):\n",
        "    loan_train[col] = loan_train[col].fillna(loan_train[col].mode()[0])"
      ],
      "metadata": {
        "id": "BO28UQHl8lG6"
      },
      "execution_count": 54,
      "outputs": []
    },
    {
      "cell_type": "markdown",
      "source": [
        "Supprimer les doublons pour éviter les redondances inutiles.\n",
        "\n",
        "Supprimer les colonnes inutiles comme Loan_ID.\n",
        "\n",
        "\n",
        "Gérer les valeurs manquantes dans les colonnes numériques en utilisant la médiane pour éviter l'impact des outliers.\n",
        "\n",
        "Gérer les valeurs manquantes dans les colonnes catégoriques en utilisant la valeur modale pour préserver la cohérence des données.\n",
        "\n",
        "Préparer un dataset propre et complet, prêt pour l'entraînement et l'évaluation d'un modèle KNN ou tout autre algorithme d'apprentissage supervisé.\n"
      ],
      "metadata": {
        "id": "k2jgp5FJCOhx"
      }
    },
    {
      "cell_type": "markdown",
      "source": [
        "##Analyse univariée des variables qualitatives"
      ],
      "metadata": {
        "id": "QOgh6_QRWAbK"
      }
    },
    {
      "cell_type": "code",
      "source": [
        "qualitative_columns = ['Gender', 'Married', 'Dependents', 'Education', 'Self_Employed', 'Property_Area', 'Loan_Status']\n",
        "\n",
        "num_columns = len(qualitative_columns)\n",
        "num_rows = math.ceil(num_columns / 4)\n",
        "\n",
        "fig, axes = plt.subplots(num_rows, 4, figsize=(20, 5 * num_rows))\n",
        "axes = axes.flatten()\n",
        "\n",
        "for i, column in enumerate(qualitative_columns):\n",
        "    loan_train[column].value_counts().plot(kind='bar', ax=axes[i], title=f\"Analyse univariée de {column}\")\n",
        "    axes[i].set_xlabel(column)\n",
        "    axes[i].set_ylabel('Frequency')\n",
        "\n",
        "for j in range(i + 1, len(axes)):\n",
        "    axes[j].axis('off')\n",
        "\n",
        "plt.tight_layout()\n",
        "plt.show()"
      ],
      "metadata": {
        "colab": {
          "base_uri": "https://localhost:8080/",
          "height": 883
        },
        "id": "-TIoWtoKVqxs",
        "outputId": "22a4af16-d6dc-4dc3-fdb6-fd650a566e91"
      },
      "execution_count": 55,
      "outputs": [
        {
          "output_type": "display_data",
          "data": {
            "text/plain": [
              "<Figure size 2000x1000 with 8 Axes>"
            ],
            "image/png": "[encoded data removed]"
          },
          "metadata": {}
        }
      ]
    },
    {
      "cell_type": "markdown",
      "source": [
        "##Analyse univariée des variables quantitatives"
      ],
      "metadata": {
        "id": "tYV76wD9Zkmg"
      }
    },
    {
      "cell_type": "code",
      "source": [
        "numeric_cols = loan_train.select_dtypes(include=['float64', 'int64']).columns\n",
        "\n",
        "n_cols = 3\n",
        "n_rows = -(-len(numeric_cols) // n_cols)\n",
        "\n",
        "fig, axes = plt.subplots(n_rows, n_cols, figsize=(15, 5 * n_rows))\n",
        "axes = axes.flatten()\n",
        "\n",
        "for i, col in enumerate(numeric_cols):\n",
        "    ax = axes[i]\n",
        "    ax.hist(loan_train[col], bins=20, alpha=0.7)\n",
        "    ax.set_title(f'Distribution of {col}')\n",
        "    ax.set_xlabel(col)\n",
        "    ax.set_ylabel('Frequency')\n",
        "\n",
        "for j in range(i + 1, len(axes)):\n",
        "    fig.delaxes(axes[j])\n",
        "\n",
        "plt.tight_layout()\n",
        "plt.show()\n"
      ],
      "metadata": {
        "colab": {
          "base_uri": "https://localhost:8080/",
          "height": 1000
        },
        "id": "YdzxByGdW3NC",
        "outputId": "bf4735e0-9c64-4cb7-de10-36d6c959b8df"
      },
      "execution_count": 56,
      "outputs": [
        {
          "output_type": "display_data",
          "data": {
            "text/plain": [
              "<Figure size 1500x1000 with 5 Axes>"
            ],
            "image/png": "[encoded data removed]"
          },
          "metadata": {}
        }
      ]
    },
    {
      "cell_type": "markdown",
      "source": [
        "##Sélection des variables qualitatives"
      ],
      "metadata": {
        "id": "Gz3WYiWs4ldb"
      }
    },
    {
      "cell_type": "code",
      "source": [
        "target = 'Loan_Status'\n",
        "qualitative_columns = loan_train.select_dtypes(include='object').columns.difference([target])\n",
        "\n",
        "# Test du chi-carré pour chaque variable qualitative\n",
        "chi2_results = []\n",
        "for col in qualitative_columns:\n",
        "    crosstab = pd.crosstab(loan_train[col], loan_train[target])\n",
        "    chi2, p, dof, expected = chi2_contingency(crosstab)\n",
        "    chi2_results.append({'Variable': col, 'Chi2': chi2, 'P_Value': p, 'Degrees_of_Freedom': dof})\n",
        "\n",
        "# Création d'un DataFrame pour les résultats\n",
        "chi2_results_df = pd.DataFrame(chi2_results).sort_values(by='P_Value')\n",
        "\n",
        "# Affichage des résultats\n",
        "print(\"Résultats du test de Chi2 pour les variables qualitatives :\")\n",
        "print(chi2_results_df)\n",
        "\n",
        "# Filtrer les variables significatives (p-value < 0.05)\n",
        "significant_features = chi2_results_df[chi2_results_df['P_Value'] < 0.05]\n",
        "print(\"\\nVariables qualitatives significatives (p-value < 0.05) :\")\n",
        "print(significant_features)"
      ],
      "metadata": {
        "colab": {
          "base_uri": "https://localhost:8080/"
        },
        "id": "OSkpY5RAOu5G",
        "outputId": "f6b851d7-ef59-4d76-e41c-e7895d48bf96"
      },
      "execution_count": 57,
      "outputs": [
        {
          "output_type": "stream",
          "name": "stdout",
          "text": [
            "Résultats du test de Chi2 pour les variables qualitatives :\n",
            "        Variable       Chi2   P_Value  Degrees_of_Freedom\n",
            "4  Property_Area  12.297623  0.002136                   2\n",
            "3        Married   4.731876  0.029609                   1\n",
            "1      Education   4.091490  0.043100                   1\n",
            "0     Dependents   3.151399  0.368866                   3\n",
            "2         Gender   0.110879  0.739146                   1\n",
            "5  Self_Employed   0.000000  1.000000                   1\n",
            "\n",
            "Variables qualitatives significatives (p-value < 0.05) :\n",
            "        Variable       Chi2   P_Value  Degrees_of_Freedom\n",
            "4  Property_Area  12.297623  0.002136                   2\n",
            "3        Married   4.731876  0.029609                   1\n",
            "1      Education   4.091490  0.043100                   1\n"
          ]
        }
      ]
    },
    {
      "cell_type": "code",
      "source": [
        "# Liste des variables qualitatives non significatives\n",
        "non_significant_qualitative = chi2_results_df[chi2_results_df['P_Value'] >= 0.05]['Variable'].tolist()\n",
        "\n",
        "# Suppression des variables qualitatives non significatives du DataFrame\n",
        "loan_train = loan_train.drop(columns=non_significant_qualitative)\n",
        "\n",
        "# Vérification des colonnes restantes\n",
        "print(\"Colonnes restantes après suppression des variables non significatives :\")\n",
        "print(loan_data.columns)\n"
      ],
      "metadata": {
        "colab": {
          "base_uri": "https://localhost:8080/"
        },
        "id": "WxWz_4zqO0Xe",
        "outputId": "2e42a309-b955-4e04-d0c2-fcdba4d89402"
      },
      "execution_count": 58,
      "outputs": [
        {
          "output_type": "stream",
          "name": "stdout",
          "text": [
            "Colonnes restantes après suppression des variables non significatives :\n",
            "Index(['CoapplicantIncome', 'Credit_History', 'Married', 'Education',\n",
            "       'Property_Area', 'Loan_Status'],\n",
            "      dtype='object')\n"
          ]
        }
      ]
    },
    {
      "cell_type": "markdown",
      "source": [
        "##Sélection des variables quantitatives"
      ],
      "metadata": {
        "id": "-OmYIURv7OM8"
      }
    },
    {
      "cell_type": "code",
      "source": [
        "# Ajout d'une colonne binaire pour Loan_Status\n",
        "loan_train['Loan_Status_Num'] = loan_train['Loan_Status'].map({'Y': 1, 'N': 0})\n",
        "\n",
        "# Sélection des variables quantitatives\n",
        "quantitative_columns = loan_train.select_dtypes(include=np.number).columns.difference(['Loan_Status_Num'])\n",
        "\n",
        "# Calcul des corrélations\n",
        "correlations = loan_train[quantitative_columns].corrwith(loan_train['Loan_Status_Num'])\n",
        "\n",
        "# Matrice de corrélation\n",
        "correlation_matrix = loan_train[quantitative_columns].corr()\n",
        "\n",
        "# Tracer la matrice de corrélation\n",
        "plt.figure(figsize=(10, 8))\n",
        "sns.heatmap(correlation_matrix, annot=True, fmt=\".2f\", cmap=\"coolwarm\")\n",
        "plt.title(\"Matrice de corrélation des variables quantitatives\")\n",
        "plt.show()\n",
        "\n",
        "# Filtrage des variables quantitatives significatives (corrélation avec Loan_Status_Num)\n",
        "threshold = 0.05  # Seuil de significativité\n",
        "significant_quantitative = correlations[abs(correlations) > threshold].index.tolist()\n",
        "\n",
        "# Récupérer les variables qualitatives et Loan_Status\n",
        "qualitative_columns = loan_train.select_dtypes(include='object').columns\n",
        "columns_to_keep = significant_quantitative + qualitative_columns.tolist()\n",
        "\n",
        "# Nouveau DataFrame filtré\n",
        "loan_train = loan_train[columns_to_keep]\n",
        "\n",
        "# Vérification des colonnes restantes\n",
        "print(\"Colonnes restantes après le filtrage :\")\n",
        "print(loan_train.columns)"
      ],
      "metadata": {
        "colab": {
          "base_uri": "https://localhost:8080/",
          "height": 892
        },
        "id": "FCDNsF5QO9Wk",
        "outputId": "545116d7-b40d-473b-836e-99d7a176d415"
      },
      "execution_count": 59,
      "outputs": [
        {
          "output_type": "display_data",
          "data": {
            "text/plain": [
              "<Figure size 1000x800 with 2 Axes>"
            ],
            "image/png": "[encoded data removed]"
          },
          "metadata": {}
        },
        {
          "output_type": "stream",
          "name": "stdout",
          "text": [
            "Colonnes restantes après le filtrage :\n",
            "Index(['CoapplicantIncome', 'Credit_History', 'Married', 'Education',\n",
            "       'Property_Area', 'Loan_Status'],\n",
            "      dtype='object')\n"
          ]
        }
      ]
    },
    {
      "cell_type": "code",
      "source": [
        "label_encoders = {}\n",
        "for col in loan_data.select_dtypes(include='object').columns:\n",
        "    le = LabelEncoder()\n",
        "    loan_data[col] = le.fit_transform(loan_data[col])\n",
        "    label_encoders[col] = le"
      ],
      "metadata": {
        "id": "pJAxokO-4ov0"
      },
      "execution_count": 60,
      "outputs": []
    },
    {
      "cell_type": "markdown",
      "source": [
        "##Préparation du modèle"
      ],
      "metadata": {
        "id": "iWe-_Bht7qSv"
      }
    },
    {
      "cell_type": "code",
      "source": [
        "X = loan_data.drop(['Loan_Status'], axis=1)\n",
        "y = loan_data['Loan_Status']\n"
      ],
      "metadata": {
        "id": "s6RVmAutaoj0"
      },
      "execution_count": 61,
      "outputs": []
    },
    {
      "cell_type": "code",
      "source": [
        "X_train, X_test, y_train, y_test = train_test_split(X, y, test_size=0.3, random_state=42)\n",
        "\n",
        "# Liste des valeurs de k à tester\n",
        "k_values = list(range(1, 30))\n",
        "\n",
        "# Création de l'instance du classificateur KNN\n",
        "knn = KNeighborsClassifier()\n",
        "# Paramètres pour la recherche de grille\n",
        "param_grid = {'n_neighbors': k_values}\n",
        "\n",
        "# Recherche de grille avec validation croisée\n",
        "grid_search = GridSearchCV(knn, param_grid, cv=5)\n",
        "grid_search.fit(X_train, y_train)\n",
        "\n",
        "# Extraction des scores de validation croisée et des valeurs de k correspondantes\n",
        "cv_scores = grid_search.cv_results_['mean_test_score']\n",
        "best_k = grid_search.best_params_['n_neighbors']\n",
        "\n",
        "best_k\n"
      ],
      "metadata": {
        "colab": {
          "base_uri": "https://localhost:8080/"
        },
        "id": "NbjuHgEWSx-f",
        "outputId": "e7111bfe-a342-4f6b-bec6-3e80067b567c"
      },
      "execution_count": 62,
      "outputs": [
        {
          "output_type": "execute_result",
          "data": {
            "text/plain": [
              "18"
            ]
          },
          "metadata": {},
          "execution_count": 62
        }
      ]
    },
    {
      "cell_type": "code",
      "source": [
        "# Tracé du graphique des scores de validation croisée en fonction de k\n",
        "plt.plot(k_values, cv_scores, '-o')\n",
        "plt.xlabel('Valeur de k')\n",
        "plt.ylabel('Score de validation croisée')\n",
        "plt.title('Choix de k par validation croisée')\n",
        "plt.xticks(k_values)\n",
        "plt.axvline(x=best_k, color='r', linestyle='--', label='Meilleur k')\n",
        "plt.legend()\n",
        "plt.show()\n"
      ],
      "metadata": {
        "colab": {
          "base_uri": "https://localhost:8080/",
          "height": 472
        },
        "id": "s0wVtEaKaS7m",
        "outputId": "4753baec-a888-497a-8888-5e329a9d9f4f"
      },
      "execution_count": 63,
      "outputs": [
        {
          "output_type": "display_data",
          "data": {
            "text/plain": [
              "<Figure size 640x480 with 1 Axes>"
            ],
            "image/png": "[encoded data removed]"
          },
          "metadata": {}
        }
      ]
    },
    {
      "cell_type": "code",
      "source": [
        "scaler = StandardScaler()\n",
        "X_train = scaler.fit_transform(X_train)\n",
        "X_test = scaler.transform(X_test)\n",
        "\n",
        "knn_model = KNeighborsClassifier(n_neighbors=18)\n",
        "\n",
        "knn_model.fit(X_train, y_train)"
      ],
      "metadata": {
        "colab": {
          "base_uri": "https://localhost:8080/",
          "height": 80
        },
        "id": "wUcsOfR34N8A",
        "outputId": "18f8a2bf-9e9c-4d74-e222-ac212b6547a3"
      },
      "execution_count": 64,
      "outputs": [
        {
          "output_type": "execute_result",
          "data": {
            "text/plain": [
              "KNeighborsClassifier(n_neighbors=18)"
            ],
            "text/html": [
              "<style>#sk-container-id-2 {\n",
              "  /* Definition of color scheme common for light and dark mode */\n",
              "  --sklearn-color-text: black;\n",
              "  --sklearn-color-line: gray;\n",
              "  /* Definition of color scheme for unfitted estimators */\n",
              "  --sklearn-color-unfitted-level-0: #fff5e6;\n",
              "  --sklearn-color-unfitted-level-1: #f6e4d2;\n",
              "  --sklearn-color-unfitted-level-2: #ffe0b3;\n",
              "  --sklearn-color-unfitted-level-3: chocolate;\n",
              "  /* Definition of color scheme for fitted estimators */\n",
              "  --sklearn-color-fitted-level-0: #f0f8ff;\n",
              "  --sklearn-color-fitted-level-1: #d4ebff;\n",
              "  --sklearn-color-fitted-level-2: #b3dbfd;\n",
              "  --sklearn-color-fitted-level-3: cornflowerblue;\n",
              "\n",
              "  /* Specific color for light theme */\n",
              "  --sklearn-color-text-on-default-background: var(--sg-text-color, var(--theme-code-foreground, var(--jp-content-font-color1, black)));\n",
              "  --sklearn-color-background: var(--sg-background-color, var(--theme-background, var(--jp-layout-color0, white)));\n",
              "  --sklearn-color-border-box: var(--sg-text-color, var(--theme-code-foreground, var(--jp-content-font-color1, black)));\n",
              "  --sklearn-color-icon: #696969;\n",
              "\n",
              "  @media (prefers-color-scheme: dark) {\n",
              "    /* Redefinition of color scheme for dark theme */\n",
              "    --sklearn-color-text-on-default-background: var(--sg-text-color, var(--theme-code-foreground, var(--jp-content-font-color1, white)));\n",
              "    --sklearn-color-background: var(--sg-background-color, var(--theme-background, var(--jp-layout-color0, #111)));\n",
              "    --sklearn-color-border-box: var(--sg-text-color, var(--theme-code-foreground, var(--jp-content-font-color1, white)));\n",
              "    --sklearn-color-icon: #878787;\n",
              "  }\n",
              "}\n",
              "\n",
              "#sk-container-id-2 {\n",
              "  color: var(--sklearn-color-text);\n",
              "}\n",
              "\n",
              "#sk-container-id-2 pre {\n",
              "  padding: 0;\n",
              "}\n",
              "\n",
              "#sk-container-id-2 input.sk-hidden--visually {\n",
              "  border: 0;\n",
              "  clip: rect(1px 1px 1px 1px);\n",
              "  clip: rect(1px, 1px, 1px, 1px);\n",
              "  height: 1px;\n",
              "  margin: -1px;\n",
              "  overflow: hidden;\n",
              "  padding: 0;\n",
              "  position: absolute;\n",
              "  width: 1px;\n",
              "}\n",
              "\n",
              "#sk-container-id-2 div.sk-dashed-wrapped {\n",
              "  border: 1px dashed var(--sklearn-color-line);\n",
              "  margin: 0 0.4em 0.5em 0.4em;\n",
              "  box-sizing: border-box;\n",
              "  padding-bottom: 0.4em;\n",
              "  background-color: var(--sklearn-color-background);\n",
              "}\n",
              "\n",
              "#sk-container-id-2 div.sk-container {\n",
              "  /* jupyter's `normalize.less` sets `[hidden] { display: none; }`\n",
              "     but bootstrap.min.css set `[hidden] { display: none !important; }`\n",
              "     so we also need the `!important` here to be able to override the\n",
              "     default hidden behavior on the sphinx rendered scikit-learn.org.\n",
              "     See: https://github.com/scikit-learn/scikit-learn/issues/21755 */\n",
              "  display: inline-block !important;\n",
              "  position: relative;\n",
              "}\n",
              "\n",
              "#sk-container-id-2 div.sk-text-repr-fallback {\n",
              "  display: none;\n",
              "}\n",
              "\n",
              "div.sk-parallel-item,\n",
              "div.sk-serial,\n",
              "div.sk-item {\n",
              "  /* draw centered vertical line to link estimators */\n",
              "  background-image: linear-gradient(var(--sklearn-color-text-on-default-background), var(--sklearn-color-text-on-default-background));\n",
              "  background-size: 2px 100%;\n",
              "  background-repeat: no-repeat;\n",
              "  background-position: center center;\n",
              "}\n",
              "\n",
              "/* Parallel-specific style estimator block */\n",
              "\n",
              "#sk-container-id-2 div.sk-parallel-item::after {\n",
              "  content: \"\";\n",
              "  width: 100%;\n",
              "  border-bottom: 2px solid var(--sklearn-color-text-on-default-background);\n",
              "  flex-grow: 1;\n",
              "}\n",
              "\n",
              "#sk-container-id-2 div.sk-parallel {\n",
              "  display: flex;\n",
              "  align-items: stretch;\n",
              "  justify-content: center;\n",
              "  background-color: var(--sklearn-color-background);\n",
              "  position: relative;\n",
              "}\n",
              "\n",
              "#sk-container-id-2 div.sk-parallel-item {\n",
              "  display: flex;\n",
              "  flex-direction: column;\n",
              "}\n",
              "\n",
              "#sk-container-id-2 div.sk-parallel-item:first-child::after {\n",
              "  align-self: flex-end;\n",
              "  width: 50%;\n",
              "}\n",
              "\n",
              "#sk-container-id-2 div.sk-parallel-item:last-child::after {\n",
              "  align-self: flex-start;\n",
              "  width: 50%;\n",
              "}\n",
              "\n",
              "#sk-container-id-2 div.sk-parallel-item:only-child::after {\n",
              "  width: 0;\n",
              "}\n",
              "\n",
              "/* Serial-specific style estimator block */\n",
              "\n",
              "#sk-container-id-2 div.sk-serial {\n",
              "  display: flex;\n",
              "  flex-direction: column;\n",
              "  align-items: center;\n",
              "  background-color: var(--sklearn-color-background);\n",
              "  padding-right: 1em;\n",
              "  padding-left: 1em;\n",
              "}\n",
              "\n",
              "\n",
              "/* Toggleable style: style used for estimator/Pipeline/ColumnTransformer box that is\n",
              "clickable and can be expanded/collapsed.\n",
              "- Pipeline and ColumnTransformer use this feature and define the default style\n",
              "- Estimators will overwrite some part of the style using the `sk-estimator` class\n",
              "*/\n",
              "\n",
              "/* Pipeline and ColumnTransformer style (default) */\n",
              "\n",
              "#sk-container-id-2 div.sk-toggleable {\n",
              "  /* Default theme specific background. It is overwritten whether we have a\n",
              "  specific estimator or a Pipeline/ColumnTransformer */\n",
              "  background-color: var(--sklearn-color-background);\n",
              "}\n",
              "\n",
              "/* Toggleable label */\n",
              "#sk-container-id-2 label.sk-toggleable__label {\n",
              "  cursor: pointer;\n",
              "  display: block;\n",
              "  width: 100%;\n",
              "  margin-bottom: 0;\n",
              "  padding: 0.5em;\n",
              "  box-sizing: border-box;\n",
              "  text-align: center;\n",
              "}\n",
              "\n",
              "#sk-container-id-2 label.sk-toggleable__label-arrow:before {\n",
              "  /* Arrow on the left of the label */\n",
              "  content: \"▸\";\n",
              "  float: left;\n",
              "  margin-right: 0.25em;\n",
              "  color: var(--sklearn-color-icon);\n",
              "}\n",
              "\n",
              "#sk-container-id-2 label.sk-toggleable__label-arrow:hover:before {\n",
              "  color: var(--sklearn-color-text);\n",
              "}\n",
              "\n",
              "/* Toggleable content - dropdown */\n",
              "\n",
              "#sk-container-id-2 div.sk-toggleable__content {\n",
              "  max-height: 0;\n",
              "  max-width: 0;\n",
              "  overflow: hidden;\n",
              "  text-align: left;\n",
              "  /* unfitted */\n",
              "  background-color: var(--sklearn-color-unfitted-level-0);\n",
              "}\n",
              "\n",
              "#sk-container-id-2 div.sk-toggleable__content.fitted {\n",
              "  /* fitted */\n",
              "  background-color: var(--sklearn-color-fitted-level-0);\n",
              "}\n",
              "\n",
              "#sk-container-id-2 div.sk-toggleable__content pre {\n",
              "  margin: 0.2em;\n",
              "  border-radius: 0.25em;\n",
              "  color: var(--sklearn-color-text);\n",
              "  /* unfitted */\n",
              "  background-color: var(--sklearn-color-unfitted-level-0);\n",
              "}\n",
              "\n",
              "#sk-container-id-2 div.sk-toggleable__content.fitted pre {\n",
              "  /* unfitted */\n",
              "  background-color: var(--sklearn-color-fitted-level-0);\n",
              "}\n",
              "\n",
              "#sk-container-id-2 input.sk-toggleable__control:checked~div.sk-toggleable__content {\n",
              "  /* Expand drop-down */\n",
              "  max-height: 200px;\n",
              "  max-width: 100%;\n",
              "  overflow: auto;\n",
              "}\n",
              "\n",
              "#sk-container-id-2 input.sk-toggleable__control:checked~label.sk-toggleable__label-arrow:before {\n",
              "  content: \"▾\";\n",
              "}\n",
              "\n",
              "/* Pipeline/ColumnTransformer-specific style */\n",
              "\n",
              "#sk-container-id-2 div.sk-label input.sk-toggleable__control:checked~label.sk-toggleable__label {\n",
              "  color: var(--sklearn-color-text);\n",
              "  background-color: var(--sklearn-color-unfitted-level-2);\n",
              "}\n",
              "\n",
              "#sk-container-id-2 div.sk-label.fitted input.sk-toggleable__control:checked~label.sk-toggleable__label {\n",
              "  background-color: var(--sklearn-color-fitted-level-2);\n",
              "}\n",
              "\n",
              "/* Estimator-specific style */\n",
              "\n",
              "/* Colorize estimator box */\n",
              "#sk-container-id-2 div.sk-estimator input.sk-toggleable__control:checked~label.sk-toggleable__label {\n",
              "  /* unfitted */\n",
              "  background-color: var(--sklearn-color-unfitted-level-2);\n",
              "}\n",
              "\n",
              "#sk-container-id-2 div.sk-estimator.fitted input.sk-toggleable__control:checked~label.sk-toggleable__label {\n",
              "  /* fitted */\n",
              "  background-color: var(--sklearn-color-fitted-level-2);\n",
              "}\n",
              "\n",
              "#sk-container-id-2 div.sk-label label.sk-toggleable__label,\n",
              "#sk-container-id-2 div.sk-label label {\n",
              "  /* The background is the default theme color */\n",
              "  color: var(--sklearn-color-text-on-default-background);\n",
              "}\n",
              "\n",
              "/* On hover, darken the color of the background */\n",
              "#sk-container-id-2 div.sk-label:hover label.sk-toggleable__label {\n",
              "  color: var(--sklearn-color-text);\n",
              "  background-color: var(--sklearn-color-unfitted-level-2);\n",
              "}\n",
              "\n",
              "/* Label box, darken color on hover, fitted */\n",
              "#sk-container-id-2 div.sk-label.fitted:hover label.sk-toggleable__label.fitted {\n",
              "  color: var(--sklearn-color-text);\n",
              "  background-color: var(--sklearn-color-fitted-level-2);\n",
              "}\n",
              "\n",
              "/* Estimator label */\n",
              "\n",
              "#sk-container-id-2 div.sk-label label {\n",
              "  font-family: monospace;\n",
              "  font-weight: bold;\n",
              "  display: inline-block;\n",
              "  line-height: 1.2em;\n",
              "}\n",
              "\n",
              "#sk-container-id-2 div.sk-label-container {\n",
              "  text-align: center;\n",
              "}\n",
              "\n",
              "/* Estimator-specific */\n",
              "#sk-container-id-2 div.sk-estimator {\n",
              "  font-family: monospace;\n",
              "  border: 1px dotted var(--sklearn-color-border-box);\n",
              "  border-radius: 0.25em;\n",
              "  box-sizing: border-box;\n",
              "  margin-bottom: 0.5em;\n",
              "  /* unfitted */\n",
              "  background-color: var(--sklearn-color-unfitted-level-0);\n",
              "}\n",
              "\n",
              "#sk-container-id-2 div.sk-estimator.fitted {\n",
              "  /* fitted */\n",
              "  background-color: var(--sklearn-color-fitted-level-0);\n",
              "}\n",
              "\n",
              "/* on hover */\n",
              "#sk-container-id-2 div.sk-estimator:hover {\n",
              "  /* unfitted */\n",
              "  background-color: var(--sklearn-color-unfitted-level-2);\n",
              "}\n",
              "\n",
              "#sk-container-id-2 div.sk-estimator.fitted:hover {\n",
              "  /* fitted */\n",
              "  background-color: var(--sklearn-color-fitted-level-2);\n",
              "}\n",
              "\n",
              "/* Specification for estimator info (e.g. \"i\" and \"?\") */\n",
              "\n",
              "/* Common style for \"i\" and \"?\" */\n",
              "\n",
              ".sk-estimator-doc-link,\n",
              "a:link.sk-estimator-doc-link,\n",
              "a:visited.sk-estimator-doc-link {\n",
              "  float: right;\n",
              "  font-size: smaller;\n",
              "  line-height: 1em;\n",
              "  font-family: monospace;\n",
              "  background-color: var(--sklearn-color-background);\n",
              "  border-radius: 1em;\n",
              "  height: 1em;\n",
              "  width: 1em;\n",
              "  text-decoration: none !important;\n",
              "  margin-left: 1ex;\n",
              "  /* unfitted */\n",
              "  border: var(--sklearn-color-unfitted-level-1) 1pt solid;\n",
              "  color: var(--sklearn-color-unfitted-level-1);\n",
              "}\n",
              "\n",
              ".sk-estimator-doc-link.fitted,\n",
              "a:link.sk-estimator-doc-link.fitted,\n",
              "a:visited.sk-estimator-doc-link.fitted {\n",
              "  /* fitted */\n",
              "  border: var(--sklearn-color-fitted-level-1) 1pt solid;\n",
              "  color: var(--sklearn-color-fitted-level-1);\n",
              "}\n",
              "\n",
              "/* On hover */\n",
              "div.sk-estimator:hover .sk-estimator-doc-link:hover,\n",
              ".sk-estimator-doc-link:hover,\n",
              "div.sk-label-container:hover .sk-estimator-doc-link:hover,\n",
              ".sk-estimator-doc-link:hover {\n",
              "  /* unfitted */\n",
              "  background-color: var(--sklearn-color-unfitted-level-3);\n",
              "  color: var(--sklearn-color-background);\n",
              "  text-decoration: none;\n",
              "}\n",
              "\n",
              "div.sk-estimator.fitted:hover .sk-estimator-doc-link.fitted:hover,\n",
              ".sk-estimator-doc-link.fitted:hover,\n",
              "div.sk-label-container:hover .sk-estimator-doc-link.fitted:hover,\n",
              ".sk-estimator-doc-link.fitted:hover {\n",
              "  /* fitted */\n",
              "  background-color: var(--sklearn-color-fitted-level-3);\n",
              "  color: var(--sklearn-color-background);\n",
              "  text-decoration: none;\n",
              "}\n",
              "\n",
              "/* Span, style for the box shown on hovering the info icon */\n",
              ".sk-estimator-doc-link span {\n",
              "  display: none;\n",
              "  z-index: 9999;\n",
              "  position: relative;\n",
              "  font-weight: normal;\n",
              "  right: .2ex;\n",
              "  padding: .5ex;\n",
              "  margin: .5ex;\n",
              "  width: min-content;\n",
              "  min-width: 20ex;\n",
              "  max-width: 50ex;\n",
              "  color: var(--sklearn-color-text);\n",
              "  box-shadow: 2pt 2pt 4pt #999;\n",
              "  /* unfitted */\n",
              "  background: var(--sklearn-color-unfitted-level-0);\n",
              "  border: .5pt solid var(--sklearn-color-unfitted-level-3);\n",
              "}\n",
              "\n",
              ".sk-estimator-doc-link.fitted span {\n",
              "  /* fitted */\n",
              "  background: var(--sklearn-color-fitted-level-0);\n",
              "  border: var(--sklearn-color-fitted-level-3);\n",
              "}\n",
              "\n",
              ".sk-estimator-doc-link:hover span {\n",
              "  display: block;\n",
              "}\n",
              "\n",
              "/* \"?\"-specific style due to the `<a>` HTML tag */\n",
              "\n",
              "#sk-container-id-2 a.estimator_doc_link {\n",
              "  float: right;\n",
              "  font-size: 1rem;\n",
              "  line-height: 1em;\n",
              "  font-family: monospace;\n",
              "  background-color: var(--sklearn-color-background);\n",
              "  border-radius: 1rem;\n",
              "  height: 1rem;\n",
              "  width: 1rem;\n",
              "  text-decoration: none;\n",
              "  /* unfitted */\n",
              "  color: var(--sklearn-color-unfitted-level-1);\n",
              "  border: var(--sklearn-color-unfitted-level-1) 1pt solid;\n",
              "}\n",
              "\n",
              "#sk-container-id-2 a.estimator_doc_link.fitted {\n",
              "  /* fitted */\n",
              "  border: var(--sklearn-color-fitted-level-1) 1pt solid;\n",
              "  color: var(--sklearn-color-fitted-level-1);\n",
              "}\n",
              "\n",
              "/* On hover */\n",
              "#sk-container-id-2 a.estimator_doc_link:hover {\n",
              "  /* unfitted */\n",
              "  background-color: var(--sklearn-color-unfitted-level-3);\n",
              "  color: var(--sklearn-color-background);\n",
              "  text-decoration: none;\n",
              "}\n",
              "\n",
              "#sk-container-id-2 a.estimator_doc_link.fitted:hover {\n",
              "  /* fitted */\n",
              "  background-color: var(--sklearn-color-fitted-level-3);\n",
              "}\n",
              "</style><div id=\"sk-container-id-2\" class=\"sk-top-container\"><div class=\"sk-text-repr-fallback\"><pre>KNeighborsClassifier(n_neighbors=18)</pre><b>In a Jupyter environment, please rerun this cell to show the HTML representation or trust the notebook. <br />On GitHub, the HTML representation is unable to render, please try loading this page with nbviewer.org.</b></div><div class=\"sk-container\" hidden><div class=\"sk-item\"><div class=\"sk-estimator fitted sk-toggleable\"><input class=\"sk-toggleable__control sk-hidden--visually\" id=\"sk-estimator-id-2\" type=\"checkbox\" checked><label for=\"sk-estimator-id-2\" class=\"sk-toggleable__label fitted sk-toggleable__label-arrow fitted\">&nbsp;&nbsp;KNeighborsClassifier<a class=\"sk-estimator-doc-link fitted\" rel=\"noreferrer\" target=\"_blank\" href=\"https://scikit-learn.org/1.5/modules/generated/sklearn.neighbors.KNeighborsClassifier.html\">?<span>Documentation for KNeighborsClassifier</span></a><span class=\"sk-estimator-doc-link fitted\">i<span>Fitted</span></span></label><div class=\"sk-toggleable__content fitted\"><pre>KNeighborsClassifier(n_neighbors=18)</pre></div> </div></div></div></div>"
            ]
          },
          "metadata": {},
          "execution_count": 64
        }
      ]
    },
    {
      "cell_type": "markdown",
      "source": [
        "##Interprétation du modèle"
      ],
      "metadata": {
        "id": "3A8S1liY96KU"
      }
    },
    {
      "cell_type": "code",
      "source": [
        "y_pred = knn_model.predict(X_test)\n",
        "\n",
        "accuracy = accuracy_score(y_test, y_pred)\n",
        "print(f\"Accuracy: {accuracy:.2f}\")\n",
        "\n",
        "print(\"Confusion Matrix:\\n\", confusion_matrix(y_test, y_pred))\n",
        "print(\"Classification Report:\\n\", classification_report(y_test, y_pred))\n"
      ],
      "metadata": {
        "colab": {
          "base_uri": "https://localhost:8080/"
        },
        "id": "RDVHiVnc7lAB",
        "outputId": "c6f2ca96-8db4-4883-893c-8dd8bee52fbb"
      },
      "execution_count": 65,
      "outputs": [
        {
          "output_type": "stream",
          "name": "stdout",
          "text": [
            "Accuracy: 0.78\n",
            "Confusion Matrix:\n",
            " [[ 27  38]\n",
            " [  2 118]]\n",
            "Classification Report:\n",
            "               precision    recall  f1-score   support\n",
            "\n",
            "           0       0.93      0.42      0.57        65\n",
            "           1       0.76      0.98      0.86       120\n",
            "\n",
            "    accuracy                           0.78       185\n",
            "   macro avg       0.84      0.70      0.71       185\n",
            "weighted avg       0.82      0.78      0.76       185\n",
            "\n"
          ]
        }
      ]
    },
    {
      "cell_type": "markdown",
      "source": [
        "##Performance du modèle"
      ],
      "metadata": {
        "id": "azYUyq35ZNSC"
      }
    },
    {
      "cell_type": "markdown",
      "source": [
        "Le modèle a correctement prédit 78% des cas parmi les 185 exemples testés.\n",
        "\n",
        "- La matrice montre comment les prédictions du modèle sont réparties par classe. Chaque élément représente un groupe spécifique :\n",
        "\n",
        "|                | Prédit Classe 0 | Prédit Classe 1 |\n",
        "|----------------|------------------|------------------|\n",
        "| **Réel Classe 0** | 27 (TP)            | 38 (FN)            |\n",
        "| **Réel Classe 1** | 2 (FP)             | 118 (TN)           |\n",
        "\n",
        "Classe 0 (non éligible) :\n",
        "\n",
        "*   27 exemples de la classe 0 sont correctement prédits.\n",
        "*   38 exemples de la classe 0 sont mal classés comme classe 1.\n",
        "\n",
        "Classe 1 (éligible) :\n",
        "\n",
        "\n",
        "*   117 exemples de la classe 1 sont correctement prédits.\n",
        "\n",
        "*   3 exemples de la classe 1 sont mal classés comme classe 0."
      ],
      "metadata": {
        "id": "st7H8iNZGVJ1"
      }
    },
    {
      "cell_type": "markdown",
      "source": [
        "##Conclusion\n",
        "Le modèle KNN atteint une précision globale de **78%**, avec d'excellentes performances pour prédire les cas \"Éligible\" (classe 1, rappel : **97%**). Cependant, il est nettement moins performant pour la classe \"Non éligible\" (classe 0), avec un rappel de seulement **42%**, indiquant une forte tendance à mal classer les refus de prêts. Pour améliorer ces résultats, des ajustements tels que l'équilibrage des classes, l'optimisation des hyperparamètres ou l'exploration d'autres modèles pourraient être envisagés. Ce modèle constitue une base solide pour identifier les prêts éligibles, mais des améliorations sont nécessaires pour mieux gérer les cas de refus."
      ],
      "metadata": {
        "id": "1-dX7RX0Zn0i"
      }
    },
    {
      "cell_type": "code",
      "source": [
        "logistic_model = LogisticRegression(max_iter=1000, random_state=42)\n",
        "logistic_model.fit(X_train, y_train)\n",
        "\n",
        "y_pred = logistic_model.predict(X_test)\n",
        "\n",
        "accuracy = accuracy_score(y_test, y_pred)\n",
        "print(f\"Accuracy: {accuracy:.2f}\")\n",
        "print(\"Confusion Matrix:\\n\", confusion_matrix(y_test, y_pred))\n",
        "print(\"Classification Report:\\n\", classification_report(y_test, y_pred))"
      ],
      "metadata": {
        "id": "vxpgyjTxKa-y",
        "colab": {
          "base_uri": "https://localhost:8080/"
        },
        "outputId": "03b162fd-d712-464a-94de-5fcc2df24eae"
      },
      "execution_count": 66,
      "outputs": [
        {
          "output_type": "stream",
          "name": "stdout",
          "text": [
            "Accuracy: 0.78\n",
            "Confusion Matrix:\n",
            " [[ 27  38]\n",
            " [  2 118]]\n",
            "Classification Report:\n",
            "               precision    recall  f1-score   support\n",
            "\n",
            "           0       0.93      0.42      0.57        65\n",
            "           1       0.76      0.98      0.86       120\n",
            "\n",
            "    accuracy                           0.78       185\n",
            "   macro avg       0.84      0.70      0.71       185\n",
            "weighted avg       0.82      0.78      0.76       185\n",
            "\n"
          ]
        }
      ]
    },
    {
      "cell_type": "markdown",
      "source": [
        "Le modèle a correctement prédit **78%** des cas parmi les **185 exemples testés**.\n",
        "\n",
        "- La matrice montre comment les prédictions du modèle sont réparties par classe. Chaque élément représente un groupe spécifique :\n",
        "\n",
        "|                | Prédit Classe 0 | Prédit Classe 1 |\n",
        "|----------------|------------------|------------------|\n",
        "| **Réel Classe 0** | 27 (TP)            | 38 (FN)            |\n",
        "| **Réel Classe 1** | 2 (FP)             | 118 (TN)           |\n",
        "\n",
        "#### Classe 0 (Non éligible) :\n",
        "- **27** exemples de la classe 0 sont correctement prédits.\n",
        "- **38** exemples de la classe 0 sont mal classés comme classe 1.\n",
        "\n",
        "#### Classe 1 (Éligible) :\n",
        "- **118** exemples de la classe 1 sont correctement prédits.\n",
        "- **2** exemples de la classe 1 sont mal classés comme classe 0."
      ],
      "metadata": {
        "id": "a1M1Onq7Re5I"
      }
    },
    {
      "cell_type": "markdown",
      "source": [
        "- Les performances des deux modèles sont globalement très similaires.\n",
        "- **Régression Logistique** offre un léger avantage dans la prédiction de la classe \"Non éligible\", ce qui pourrait la rendre plus adaptée si la détection des refus est une priorité.\n",
        "- **KNN** reste une alternative valable, avec des performances comparables sur l'ensemble des classes."
      ],
      "metadata": {
        "id": "ExkSPe8oSVVX"
      }
    },
    {
      "cell_type": "markdown",
      "source": [
        "En conclusion, ce projet a permis d’automatiser le processus d’éligibilité au prêt en utilisant un modèle de classification binaire KNN. Après avoir nettoyé et préparé les données, le modèle a été entraîné pour prédire si un demandeur de prêt serait éligible ou non. Les résultats obtenus montrent l’efficacité de KNN dans ce contexte, bien que des ajustements puissent être faits pour améliorer la précision du modèle. Ce projet illustre l'importance de la préparation des données et de l'optimisation des modèles pour résoudre des problèmes réels."
      ],
      "metadata": {
        "id": "NdZIwDaCGjHH"
      }
    },
    {
      "cell_type": "code",
      "source": [],
      "metadata": {
        "id": "jCO3r5jfWBJv"
      },
      "execution_count": null,
      "outputs": []
    }
  ]
}